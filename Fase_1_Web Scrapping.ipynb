{
 "cells": [
  {
   "cell_type": "code",
   "execution_count": 1,
   "metadata": {},
   "outputs": [],
   "source": [
    "import pandas as pd\n",
    "import numpy as np\n",
    "import matplotlib.pyplot as plt\n",
    "import time"
   ]
  },
  {
   "cell_type": "code",
   "execution_count": 2,
   "metadata": {},
   "outputs": [
    {
     "name": "stderr",
     "output_type": "stream",
     "text": [
      "<ipython-input-2-38f3f5c6ad9c>:5: DeprecationWarning: use setter for headless property instead of set_headless\n",
      "  opts.set_headless()\n"
     ]
    }
   ],
   "source": [
    "# Utilizamos Selenium para extraer datos\n",
    "from selenium.webdriver import Firefox\n",
    "from selenium.webdriver.firefox.options import Options\n",
    "opts = Options()\n",
    "opts.set_headless()\n",
    "assert opts.headless  # Operating in headless mode\n",
    "\n",
    "from selenium.webdriver.support.ui import Select\n",
    "\n",
    "#browser = Firefox(options=opts)"
   ]
  },
  {
   "cell_type": "code",
   "execution_count": 7,
   "metadata": {},
   "outputs": [],
   "source": [
    "def web_scrapping_historical_temperature(prov,loc,inicio,final): \n",
    "    browser = Firefox(executable_path = '/home/vant/Descargas/geckodriver-v0.29.1-linux64/geckodriver')\n",
    "    url = 'https://datosclima.es/Aemethistorico/Meteostation.php'\n",
    "    \n",
    "    browser.get(url)\n",
    "    browser.implicitly_wait(10)    \n",
    "    \n",
    "    provincias = Select(browser.find_element_by_name('Provincia'))\n",
    "    provincias.select_by_visible_text(prov)\n",
    "    time.sleep(1)\n",
    "    ciudades = Select(browser.find_element_by_name('id_hija'))\n",
    "    ciudades.select_by_visible_text(loc)\n",
    "    time.sleep(1)\n",
    "    \n",
    "    dia_inicial, mes_inicial, año_inicial = inicio.split('/')\n",
    "    print(dia_inicial,mes_inicial,año_inicial)\n",
    "    dia = browser.find_element_by_name('Iday')\n",
    "    dia.send_keys(dia_inicial)\n",
    "    mes = browser.find_element_by_name('Imonth')\n",
    "    mes.send_keys(mes_inicial)\n",
    "    año = browser.find_element_by_name('Iyear')\n",
    "    año.send_keys(año_inicial)\n",
    "    \n",
    "    dia_final, mes_final, año_final = final.split('/')    \n",
    "    print(dia_final,mes_final,año_final)    \n",
    "    dia = browser.find_element_by_name('Fday')\n",
    "    dia.send_keys(dia_final)\n",
    "    mes = browser.find_element_by_name('Fmonth')\n",
    "    mes.send_keys(mes_final)\n",
    "    año = browser.find_element_by_name('Fyear')\n",
    "    año.send_keys(año_final)\n",
    "    # click on \"buscar\"\n",
    "    time.sleep(1.5)\n",
    "    browser.find_element_by_xpath('/html/body/div[3]/div[2]/div[1]/div/form/input[5]').click()       \n",
    "    time.sleep(200) \n",
    "    browser.implicitly_wait(10) \n",
    "    \n",
    "    # tablas\n",
    "    tablas = browser.find_elements_by_tag_name('table')[2:]\n",
    "    print(f'total amount of tables are {len(tablas)}')\n",
    "        \n",
    "    gather_data  = []\n",
    "    for numero in range(len(tablas)):\n",
    "        if numero in range(0,len(tablas),4):\n",
    "            continue            \n",
    "        else:\n",
    "            tabla = []\n",
    "            for row in tablas[numero].find_elements_by_tag_name('tr'):\n",
    "                columns = row.find_elements_by_tag_name('td')\n",
    "                fila = [td.text for td in columns]\n",
    "                #print(fila)\n",
    "                tabla.append(fila)\n",
    "        \n",
    "            gather_data.extend(tabla)\n",
    "            \n",
    "    temperatura = pd.DataFrame(gather_data[1:],columns=gather_data[0]).drop_duplicates(keep=False)\n",
    "    temperatura.to_csv('temperatura.csv',index=False)\n",
    "    browser.close()"
   ]
  },
  {
   "cell_type": "code",
   "execution_count": 8,
   "metadata": {},
   "outputs": [],
   "source": [
    "def web_scrapping_historical_presion(prov,loc,inicio,final): \n",
    "    browser = Firefox(executable_path = '/home/vant/Descargas/geckodriver-v0.29.1-linux64/geckodriver')\n",
    "    url = 'https://datosclima.es/Aemethistorico/Presion.php'\n",
    "    \n",
    "    browser.get(url)\n",
    "    browser.implicitly_wait(10)    \n",
    "    \n",
    "    provincias = Select(browser.find_element_by_name('Provincia'))\n",
    "    provincias.select_by_visible_text(prov)\n",
    "    time.sleep(1)\n",
    "    ciudades = Select(browser.find_element_by_name('id_hija'))\n",
    "    ciudades.select_by_visible_text(loc)\n",
    "    time.sleep(1)\n",
    "    \n",
    "    dia_inicial, mes_inicial, año_inicial = inicio.split('/')\n",
    "    print(dia_inicial,mes_inicial,año_inicial)\n",
    "    dia = browser.find_element_by_name('Iday')\n",
    "    dia.send_keys(dia_inicial)\n",
    "    mes = browser.find_element_by_name('Imonth')\n",
    "    mes.send_keys(mes_inicial)\n",
    "    año = browser.find_element_by_name('Iyear')\n",
    "    año.send_keys(año_inicial)\n",
    "    \n",
    "    dia_final, mes_final, año_final = final.split('/')    \n",
    "    print(dia_final,mes_final,año_final)    \n",
    "    dia = browser.find_element_by_name('Fday')\n",
    "    dia.send_keys(dia_final)\n",
    "    mes = browser.find_element_by_name('Fmonth')\n",
    "    mes.send_keys(mes_final)\n",
    "    año = browser.find_element_by_name('Fyear')\n",
    "    año.send_keys(año_final)\n",
    "    # click on \"buscar\"\n",
    "    time.sleep(1.5)\n",
    "    browser.find_element_by_xpath('/html/body/div[3]/div[2]/div[1]/div/form/input[5]').click()       \n",
    "    time.sleep(200) \n",
    "    browser.implicitly_wait(10) \n",
    "    \n",
    "    # tablas\n",
    "    tablas = browser.find_elements_by_tag_name('table')[2:]\n",
    "    print(f'total amount of tables are {len(tablas)}')\n",
    "        \n",
    "    gather_data  = []\n",
    "    for numero in range(len(tablas)):\n",
    "        if numero in range(0,len(tablas),4):\n",
    "            continue            \n",
    "        else:\n",
    "            tabla = []\n",
    "            for row in tablas[numero].find_elements_by_tag_name('tr'):\n",
    "                columns = row.find_elements_by_tag_name('td')\n",
    "                fila = [td.text for td in columns]\n",
    "                #print(fila)\n",
    "                tabla.append(fila)\n",
    "        \n",
    "            gather_data.extend(tabla)\n",
    "            \n",
    "    temperatura = pd.DataFrame(gather_data[1:],columns=gather_data[0]).drop_duplicates(keep=False)\n",
    "    temperatura.to_csv('presion.csv',index=False)\n",
    "    browser.close()"
   ]
  },
  {
   "cell_type": "code",
   "execution_count": 9,
   "metadata": {},
   "outputs": [],
   "source": [
    "def web_scrapping_historical_lluvia_sol(prov,loc,inicio,final): \n",
    "    browser = Firefox(executable_path = '/home/vant/Descargas/geckodriver-v0.29.1-linux64/geckodriver')\n",
    "    url = 'https://datosclima.es/Aemethistorico/Lluviasol.php'\n",
    "    \n",
    "    browser.get(url)\n",
    "    browser.implicitly_wait(10)    \n",
    "    \n",
    "    provincias = Select(browser.find_element_by_name('Provincia'))\n",
    "    provincias.select_by_visible_text(prov)\n",
    "    time.sleep(1)\n",
    "    ciudades = Select(browser.find_element_by_name('id_hija'))\n",
    "    ciudades.select_by_visible_text(loc)\n",
    "    time.sleep(1)\n",
    "    \n",
    "    dia_inicial, mes_inicial, año_inicial = inicio.split('/')\n",
    "    print(dia_inicial,mes_inicial,año_inicial)\n",
    "    dia = browser.find_element_by_name('Iday')\n",
    "    dia.send_keys(dia_inicial)\n",
    "    mes = browser.find_element_by_name('Imonth')\n",
    "    mes.send_keys(mes_inicial)\n",
    "    año = browser.find_element_by_name('Iyear')\n",
    "    año.send_keys(año_inicial)\n",
    "    \n",
    "    dia_final, mes_final, año_final = final.split('/')    \n",
    "    print(dia_final,mes_final,año_final)    \n",
    "    dia = browser.find_element_by_name('Fday')\n",
    "    dia.send_keys(dia_final)\n",
    "    mes = browser.find_element_by_name('Fmonth')\n",
    "    mes.send_keys(mes_final)\n",
    "    año = browser.find_element_by_name('Fyear')\n",
    "    año.send_keys(año_final)\n",
    "    # click on \"buscar\"\n",
    "    time.sleep(1.5)\n",
    "    browser.find_element_by_xpath('/html/body/div[3]/div[2]/div[1]/div/form/input[5]').click()       \n",
    "    time.sleep(200) \n",
    "    browser.implicitly_wait(10) \n",
    "    \n",
    "    # tablas\n",
    "    tablas = browser.find_elements_by_tag_name('table')[2:]\n",
    "    print(f'total amount of tables are {len(tablas)}')\n",
    "        \n",
    "    gather_data  = []\n",
    "    for numero in range(len(tablas)):\n",
    "        if numero in range(0,len(tablas),4):\n",
    "            continue            \n",
    "        else:\n",
    "            tabla = []\n",
    "            for row in tablas[numero].find_elements_by_tag_name('tr'):\n",
    "                columns = row.find_elements_by_tag_name('td')\n",
    "                fila = [td.text for td in columns]\n",
    "                #print(fila)\n",
    "                tabla.append(fila)\n",
    "        \n",
    "            gather_data.extend(tabla)\n",
    "            \n",
    "    temperatura = pd.DataFrame(gather_data[1:],columns=gather_data[0]).drop_duplicates(keep=False)\n",
    "    temperatura.to_csv('lluvia_sol.csv',index=False)\n",
    "    browser.close()"
   ]
  },
  {
   "cell_type": "code",
   "execution_count": 6,
   "metadata": {},
   "outputs": [],
   "source": [
    "def web_scrapping_historical_viento(prov,loc,inicio,final): \n",
    "    browser = Firefox(executable_path = '/home/vant/Descargas/geckodriver-v0.29.1-linux64/geckodriver')\n",
    "    url = 'https://datosclima.es/Aemethistorico/Viento.php'\n",
    "    \n",
    "    browser.get(url)\n",
    "    browser.implicitly_wait(10)    \n",
    "    \n",
    "    provincias = Select(browser.find_element_by_name('Provincia'))\n",
    "    provincias.select_by_visible_text(prov)\n",
    "    time.sleep(1)\n",
    "    ciudades = Select(browser.find_element_by_name('id_hija'))\n",
    "    ciudades.select_by_visible_text(loc)\n",
    "    time.sleep(1)\n",
    "    \n",
    "    dia_inicial, mes_inicial, año_inicial = inicio.split('/')\n",
    "    print(dia_inicial,mes_inicial,año_inicial)\n",
    "    dia = browser.find_element_by_name('Iday')\n",
    "    dia.send_keys(dia_inicial)\n",
    "    mes = browser.find_element_by_name('Imonth')\n",
    "    mes.send_keys(mes_inicial)\n",
    "    año = browser.find_element_by_name('Iyear')\n",
    "    año.send_keys(año_inicial)\n",
    "    \n",
    "    dia_final, mes_final, año_final = final.split('/')    \n",
    "    print(dia_final,mes_final,año_final)    \n",
    "    dia = browser.find_element_by_name('Fday')\n",
    "    dia.send_keys(dia_final)\n",
    "    mes = browser.find_element_by_name('Fmonth')\n",
    "    mes.send_keys(mes_final)\n",
    "    año = browser.find_element_by_name('Fyear')\n",
    "    año.send_keys(año_final)\n",
    "    # click on \"buscar\"\n",
    "    time.sleep(1.5)\n",
    "    browser.find_element_by_xpath('/html/body/div[3]/div[2]/div[1]/div/form/input[5]').click()       \n",
    "    time.sleep(200) \n",
    "    browser.implicitly_wait(10) \n",
    "    \n",
    "    # tablas\n",
    "    tablas = browser.find_elements_by_tag_name('table')[2:]\n",
    "    print(f'total amount of tables are {len(tablas)}')\n",
    "        \n",
    "    gather_data  = []\n",
    "    for numero in range(len(tablas)):\n",
    "        if numero in range(0,len(tablas),4):\n",
    "            continue            \n",
    "        else:\n",
    "            tabla = []\n",
    "            for row in tablas[numero].find_elements_by_tag_name('tr'):\n",
    "                columns = row.find_elements_by_tag_name('td')\n",
    "                fila = [td.text for td in columns]\n",
    "                #print(fila)\n",
    "                tabla.append(fila)\n",
    "        \n",
    "            gather_data.extend(tabla)\n",
    "            \n",
    "    temperatura = pd.DataFrame(gather_data[1:],columns=gather_data[0]).drop_duplicates(keep=False)\n",
    "    temperatura.to_csv('viento.csv',index=False)\n",
    "    browser.close()"
   ]
  },
  {
   "cell_type": "code",
   "execution_count": 10,
   "metadata": {},
   "outputs": [
    {
     "name": "stdout",
     "output_type": "stream",
     "text": [
      "01 01 1930\n",
      "31 12 2020\n",
      "total amount of tables are 364\n"
     ]
    }
   ],
   "source": [
    "provincia = 'BARCELONA'\n",
    "poblacion = 'BARCELONA, FABRA'\n",
    "fecha_i = '01/01/1930'\n",
    "fecha_f = '31/12/2020'\n",
    "web_scrapping_historical_temperature(provincia,poblacion,fecha_i,fecha_f)"
   ]
  },
  {
   "cell_type": "code",
   "execution_count": 12,
   "metadata": {},
   "outputs": [
    {
     "name": "stdout",
     "output_type": "stream",
     "text": [
      "01 01 1930\n",
      "31 12 2020\n",
      "total amount of tables are 364\n"
     ]
    }
   ],
   "source": [
    "provincia = 'BARCELONA'\n",
    "poblacion = 'BARCELONA, FABRA'\n",
    "fecha_i = '01/01/1930'\n",
    "fecha_f = '31/12/2020'\n",
    "web_scrapping_historical_presion(provincia,poblacion,fecha_i,fecha_f)"
   ]
  },
  {
   "cell_type": "code",
   "execution_count": 11,
   "metadata": {},
   "outputs": [
    {
     "name": "stdout",
     "output_type": "stream",
     "text": [
      "01 01 1930\n",
      "31 12 2020\n",
      "total amount of tables are 364\n"
     ]
    }
   ],
   "source": [
    "provincia = 'BARCELONA'\n",
    "poblacion = 'BARCELONA, FABRA'\n",
    "fecha_i = '01/01/1930'\n",
    "fecha_f = '31/12/2020'\n",
    "web_scrapping_historical_lluvia_sol(provincia,poblacion,fecha_i,fecha_f)"
   ]
  },
  {
   "cell_type": "code",
   "execution_count": null,
   "metadata": {},
   "outputs": [],
   "source": [
    "provincia = 'BARCELONA'\n",
    "poblacion = 'BARCELONA, FABRA'\n",
    "fecha_i = '01/01/1930'\n",
    "fecha_f = '31/12/2020'\n",
    "web_scrapping_historical_viento(provincia,poblacion,fecha_i,fecha_f)"
   ]
  },
  {
   "cell_type": "code",
   "execution_count": null,
   "metadata": {},
   "outputs": [],
   "source": [
    "#check the data for one file and load it into the DATABASE"
   ]
  },
  {
   "cell_type": "code",
   "execution_count": null,
   "metadata": {},
   "outputs": [],
   "source": [
    "file = 'lluvia_sol.csv'\n",
    "df = pd.read_csv(file)\n",
    "#df['FECHA'] = pd.to_datetime(df.FECHA,format='%d-%m-%Y')\n",
    "#df.reset_index(inplace=True)\n",
    "df.columns = ['date','precipitacion','horas_sol']\n",
    "#df.precipitacion = df.precipitacion.map({'Ip':0.0})\n",
    "df.head()\n",
    "df.replace(np.nan,'',inplace=True) # los nan los ponemos como empty strings\n",
    "table_name = file[:-4]\n",
    "df.head()"
   ]
  },
  {
   "cell_type": "code",
   "execution_count": null,
   "metadata": {},
   "outputs": [],
   "source": [
    "import mysql.connector"
   ]
  },
  {
   "cell_type": "code",
   "execution_count": null,
   "metadata": {},
   "outputs": [],
   "source": [
    "mydb = mysql.connector.connect(\n",
    "    host = 'localhost',    \n",
    "    user = 'manel',\n",
    "    password = 'itacademy',\n",
    "    database=\"mydb\")\n",
    "\n",
    "mycursor = mydb.cursor()"
   ]
  },
  {
   "cell_type": "code",
   "execution_count": null,
   "metadata": {},
   "outputs": [],
   "source": [
    "# check current tables in the database\n",
    "sql_query = 'SHOW TABLES'\n",
    "mycursor.execute(sql_query)\n",
    "\n",
    "for x in mycursor:\n",
    "  print(x) "
   ]
  },
  {
   "cell_type": "code",
   "execution_count": null,
   "metadata": {},
   "outputs": [],
   "source": [
    "query = \"CREATE TABLE %s (%s VARCHAR(45), %s VARCHAR(45), %s VARCHAR(45))\"%(table_name,df.columns[0],df.columns[1],df.columns[2])\n",
    "mycursor.execute(query) "
   ]
  },
  {
   "cell_type": "code",
   "execution_count": null,
   "metadata": {},
   "outputs": [],
   "source": [
    "# check if new tables are shown\n",
    "mycursor.execute(\"SHOW TABLES\")\n",
    "for x in mycursor:\n",
    "    print(x) "
   ]
  },
  {
   "cell_type": "code",
   "execution_count": null,
   "metadata": {},
   "outputs": [],
   "source": [
    "sql = f\"INSERT INTO {table_name} VALUES (%s, %s, %s)\"\n",
    "print(sql)\n",
    "values = df.to_numpy().tolist()\n",
    "mycursor.executemany(sql, values)   "
   ]
  },
  {
   "cell_type": "code",
   "execution_count": null,
   "metadata": {},
   "outputs": [],
   "source": [
    "mydb.commit()"
   ]
  },
  {
   "cell_type": "code",
   "execution_count": null,
   "metadata": {},
   "outputs": [],
   "source": [
    "mycursor.close()"
   ]
  },
  {
   "cell_type": "code",
   "execution_count": null,
   "metadata": {},
   "outputs": [],
   "source": [
    "# repito el proceso para los diferentes datos extraidos"
   ]
  },
  {
   "cell_type": "code",
   "execution_count": null,
   "metadata": {},
   "outputs": [],
   "source": []
  }
 ],
 "metadata": {
  "kernelspec": {
   "display_name": "Python 3",
   "language": "python",
   "name": "python3"
  },
  "language_info": {
   "codemirror_mode": {
    "name": "ipython",
    "version": 3
   },
   "file_extension": ".py",
   "mimetype": "text/x-python",
   "name": "python",
   "nbconvert_exporter": "python",
   "pygments_lexer": "ipython3",
   "version": "3.8.8"
  }
 },
 "nbformat": 4,
 "nbformat_minor": 4
}
